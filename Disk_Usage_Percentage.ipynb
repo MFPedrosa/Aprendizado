{
  "nbformat": 4,
  "nbformat_minor": 0,
  "metadata": {
    "colab": {
      "provenance": [],
      "authorship_tag": "ABX9TyOZc02ACOTCwXElTKJ5AJ+j",
      "include_colab_link": true
    },
    "kernelspec": {
      "name": "python3",
      "display_name": "Python 3"
    },
    "language_info": {
      "name": "python"
    }
  },
  "cells": [
    {
      "cell_type": "markdown",
      "metadata": {
        "id": "view-in-github",
        "colab_type": "text"
      },
      "source": [
        "<a href=\"https://colab.research.google.com/github/MFPedrosa/Aprendizado/blob/main/Disk_Usage_Percentage.ipynb\" target=\"_parent\"><img src=\"https://colab.research.google.com/assets/colab-badge.svg\" alt=\"Open In Colab\"/></a>"
      ]
    },
    {
      "cell_type": "code",
      "execution_count": 3,
      "metadata": {
        "colab": {
          "base_uri": "https://localhost:8080/"
        },
        "id": "PrkuEdm796jc",
        "outputId": "70228c08-a467-46af-efbb-e69cca181099"
      },
      "outputs": [
        {
          "output_type": "stream",
          "name": "stdout",
          "text": [
            "Enter the percentage of free space: 25.675675675675674\n",
            "Enter the total disk usage 550\n",
            "Total disk space needed:  691.2162162162163\n"
          ]
        }
      ],
      "source": [
        "def calculate_total_disk_space(free_space_percent,total_usage):\n",
        "  free_space = (free_space_percent / 100) * total_usage\n",
        "  total_space = total_usage + free_space\n",
        "  return total_space\n",
        "\n",
        "free_space_percent = float(input(\"Enter the percentage of free space: \"))\n",
        "total_usage = float(input(\"Enter the total disk usage \"))\n",
        "\n",
        "total_space = calculate_total_disk_space(free_space_percent,total_usage)\n",
        "print(\"Total disk space needed: \",total_space)"
      ]
    }
  ]
}