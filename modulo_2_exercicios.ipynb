{
  "nbformat": 4,
  "nbformat_minor": 0,
  "metadata": {
    "colab": {
      "name": "modulo_2_exercicios.ipynb",
      "provenance": [],
      "collapsed_sections": [],
      "toc_visible": true,
      "include_colab_link": true
    },
    "kernelspec": {
      "name": "python3",
      "display_name": "Python 3"
    }
  },
  "cells": [
    {
      "cell_type": "markdown",
      "metadata": {
        "id": "view-in-github",
        "colab_type": "text"
      },
      "source": [
        "<a href=\"https://colab.research.google.com/github/MFPedrosa/Aprendizado/blob/main/modulo_2_exercicios.ipynb\" target=\"_parent\"><img src=\"https://colab.research.google.com/assets/colab-badge.svg\" alt=\"Open In Colab\"/></a>"
      ]
    },
    {
      "cell_type": "markdown",
      "metadata": {
        "id": "KJqp9AANOCtf"
      },
      "source": [
        "<img src=\"https://raw.githubusercontent.com/andre-marcos-perez/ebac-course-utils/main/media/logo/newebac_logo_black_half.png\" alt=\"ebac-logo\">\n",
        "\n",
        "---\n",
        "\n",
        "# **Módulo 02** | Python: Estruturas de Dados\n",
        "Caderno de **Exercícios**<br> \n",
        "Professor [André Perez](https://www.linkedin.com/in/andremarcosperez/)\n",
        "\n",
        "---"
      ]
    },
    {
      "cell_type": "markdown",
      "metadata": {
        "id": "d9jDtUbDOE1-"
      },
      "source": [
        "# **Tópicos**\n",
        "\n",
        "<ol type=\"1\">\n",
        "  <li>Listas;</li>\n",
        "  <li>Conjuntos;</li>\n",
        "  <li>Dicionários.</li>\n",
        "</ol>"
      ]
    },
    {
      "cell_type": "markdown",
      "metadata": {
        "id": "SmoHgt-lwkpD"
      },
      "source": [
        "---"
      ]
    },
    {
      "cell_type": "markdown",
      "metadata": {
        "id": "GABI6OW8OfQ2"
      },
      "source": [
        "# **Exercícios**"
      ]
    },
    {
      "cell_type": "markdown",
      "metadata": {
        "id": "muD1vxozykSC"
      },
      "source": [
        "## 1\\. Listas"
      ]
    },
    {
      "cell_type": "markdown",
      "metadata": {
        "id": "ahrFfCuBxJKs"
      },
      "source": [
        "Criei uma lista chamada `filmes` com o nome dos 10 primeiros filmes mais bem avaliados no site no [IMDB](https://www.imdb.com/chart/top/). Imprima o resultado."
      ]
    },
    {
      "cell_type": "code",
      "metadata": {
        "id": "OgL6Hv3bzOHI",
        "colab": {
          "base_uri": "https://localhost:8080/"
        },
        "outputId": "f92a7545-8b7f-474f-92b7-678c52956041"
      },
      "source": [
        "filmes = ['Os Condenados de Shawshank',\t'O Padrinho','O Cavaleiro das Trevas','O Padrinho: Parte II','Doze Homens em Fúria','A Lista de Schindler','O Senhor dos Anéis - O Regresso do Rei','Pulp Fiction','O Senhor dos Anéis - A Irmandade do Anel','O Bom, o Mau e o Vilão']\n",
        "print(filmes)"
      ],
      "execution_count": null,
      "outputs": [
        {
          "output_type": "stream",
          "name": "stdout",
          "text": [
            "['Os Condenados de Shawshank', 'O Padrinho', 'O Cavaleiro das Trevas', 'O Padrinho: Parte II', 'Doze Homens em Fúria', 'A Lista de Schindler', 'O Senhor dos Anéis - O Regresso do Rei', 'Pulp Fiction', 'O Senhor dos Anéis - A Irmandade do Anel', 'O Bom, o Mau e o Vilão']\n"
          ]
        }
      ]
    },
    {
      "cell_type": "markdown",
      "metadata": {
        "id": "KI9zQRT2xa7m"
      },
      "source": [
        "Simule a movimentação do *ranking*. Utilize os métodos `insert` e `pop` para trocar a posição do primeiro e do segundo filme da lista. Imprima o resultado.\n",
        "\n"
      ]
    },
    {
      "cell_type": "code",
      "metadata": {
        "id": "zX3mA3_GzrXH",
        "colab": {
          "base_uri": "https://localhost:8080/"
        },
        "outputId": "38baabc9-dfba-40be-bd40-49ba4525e18d"
      },
      "source": [
        "filmes = ['Os Condenados de Shawshank',\n",
        "          'O Padrinho',\n",
        "          'O Cavaleiro das Trevas',\n",
        "          'O Padrinho: Parte II',\n",
        "          'Doze Homens em Fúria',\n",
        "          'A Lista de Schindler',\n",
        "          'O Senhor dos Anéis - O Regresso do Rei',\n",
        "          'Pulp Fiction',\n",
        "          'O Senhor dos Anéis - A Irmandade do Anel',\n",
        "          'O Bom, o Mau e o Vilão']\n",
        "filmes.pop(0)\n",
        "filmes.insert(1,'Os Condenados de Shawshank')\n",
        "print(filmes)"
      ],
      "execution_count": null,
      "outputs": [
        {
          "output_type": "stream",
          "name": "stdout",
          "text": [
            "['O Padrinho', 'Os Condenados de Shawshank', 'O Cavaleiro das Trevas', 'O Padrinho: Parte II', 'Doze Homens em Fúria', 'A Lista de Schindler', 'O Senhor dos Anéis - O Regresso do Rei', 'Pulp Fiction', 'O Senhor dos Anéis - A Irmandade do Anel', 'O Bom, o Mau e o Vilão']\n"
          ]
        }
      ]
    },
    {
      "cell_type": "markdown",
      "metadata": {
        "id": "zMN1Q3jdwoJm"
      },
      "source": [
        "---"
      ]
    },
    {
      "cell_type": "markdown",
      "metadata": {
        "id": "lxa5L6uF0ZJE"
      },
      "source": [
        "## 2\\. Conjuntos"
      ]
    },
    {
      "cell_type": "markdown",
      "metadata": {
        "id": "9JahS2Kj0d5u"
      },
      "source": [
        "Aconteceu um erro no seu *ranking*. Simule a duplicação dos três últimos filmes da lista. Imprima o resultado."
      ]
    },
    {
      "cell_type": "code",
      "metadata": {
        "id": "BnjnLBNC6PGe",
        "colab": {
          "base_uri": "https://localhost:8080/"
        },
        "outputId": "0b3c0811-95e0-46d0-b94d-ad3eb2cfc8b7"
      },
      "source": [
        "filmes = ['Os Condenados de Shawshank',\n",
        "          'O Padrinho',\n",
        "          'O Cavaleiro das Trevas',\n",
        "          'O Padrinho: Parte II',\n",
        "          'Doze Homens em Fúria',\n",
        "          'A Lista de Schindler',\n",
        "          'O Senhor dos Anéis - O Regresso do Rei',\n",
        "          'Pulp Fiction',\n",
        "          'O Senhor dos Anéis - A Irmandade do Anel',\n",
        "          'O Bom, o Mau e o Vilão',\n",
        "          'Pulp Fiction',\n",
        "          'O Senhor dos Anéis - A Irmandade do Anel',\n",
        "          'O Bom, o Mau e o Vilão']\n",
        "print(filmes)"
      ],
      "execution_count": null,
      "outputs": [
        {
          "output_type": "stream",
          "name": "stdout",
          "text": [
            "['Os Condenados de Shawshank', 'O Padrinho', 'O Cavaleiro das Trevas', 'O Padrinho: Parte II', 'Doze Homens em Fúria', 'A Lista de Schindler', 'O Senhor dos Anéis - O Regresso do Rei', 'Pulp Fiction', 'O Senhor dos Anéis - A Irmandade do Anel', 'O Bom, o Mau e o Vilão', 'Pulp Fiction', 'O Senhor dos Anéis - A Irmandade do Anel', 'O Bom, o Mau e o Vilão']\n"
          ]
        }
      ]
    },
    {
      "cell_type": "markdown",
      "metadata": {
        "id": "suxTfCJB6ZiX"
      },
      "source": [
        "Utiliza a conversão `set` e `list` para remover os valores duplicados. Imprima o resultado. "
      ]
    },
    {
      "cell_type": "code",
      "metadata": {
        "id": "ZvUGN-0n6joM",
        "colab": {
          "base_uri": "https://localhost:8080/"
        },
        "outputId": "3d741ea3-7cd9-411c-dc3c-b1858714adc5"
      },
      "source": [
        "filmes_organizados = list(set(filmes))\n",
        "print(filmes_organizados)"
      ],
      "execution_count": null,
      "outputs": [
        {
          "output_type": "stream",
          "name": "stdout",
          "text": [
            "['A Lista de Schindler', 'O Senhor dos Anéis - A Irmandade do Anel', 'O Padrinho: Parte II', 'Pulp Fiction', 'Doze Homens em Fúria', 'O Bom, o Mau e o Vilão', 'O Senhor dos Anéis - O Regresso do Rei', 'Os Condenados de Shawshank', 'O Cavaleiro das Trevas', 'O Padrinho']\n"
          ]
        }
      ]
    },
    {
      "cell_type": "markdown",
      "metadata": {
        "id": "ShkK35eQ6pAM"
      },
      "source": [
        "---"
      ]
    },
    {
      "cell_type": "markdown",
      "metadata": {
        "id": "EL_FzmxL6rTv"
      },
      "source": [
        "## 3\\. Dicionários"
      ]
    },
    {
      "cell_type": "markdown",
      "metadata": {
        "id": "i8l0gFqRCpfT"
      },
      "source": [
        "Repita os exercícios da parte 1 (listas). Os elementos da lista `filmes` devem ser dicionários no seguinte formato: `{'nome': <nome-do-filme>, 'ano': <ano do filme>}, 'sinopse': <sinopse do filme>}`. "
      ]
    },
    {
      "cell_type": "code",
      "source": [
        "lista_filmes = []\n",
        "\n",
        "lista_filmes.append({'nome': 'Os Condenados de Shawshank','ano': '1994','sinopse': 'Two imprisoned men bond over a number of years, finding solace and eventual redemption through acts of common decency.'})\n",
        "lista_filmes.append({'nome': 'O Padrinho','ano': 'ano do filme', 'sinopse': 'The aging patriarch of an organized crime dynasty in postwar New York City transfers control of his clandestine empire to his reluctant youngest son.'})\n",
        "lista_filmes.append({'nome': 'O Cavaleiro das Trevas','ano': '2008', 'sinopse': 'When the menace known as the Joker wreaks havoc and chaos on the people of Gotham, Batman must accept one of the greatest psychological and physical tests of his ability to fight injustice.'})\n",
        "lista_filmes.append({'nome': 'O Padrinho: Parte 2','ano': '1974', 'sinopse': 'The early life and career of Vito Corleone in 1920s New York City is portrayed, while his son, Michael, expands and tightens his grip on the family crime syndicate.'})\n",
        "lista_filmes.append({'nome': 'Doze Homens em Furia','ano': '1957', 'sinopse': 'The jury in a New York City murder trial is frustrated by a single member whose skeptical caution forces them to more carefully consider the evidence before jumping to a hasty verdict.'})\n",
        "lista_filmes.append({'nome': 'A Lista de Schindler','ano': '1993', 'sinopse': 'In German-occupied Poland during World War II, industrialist Oskar Schindler gradually becomes concerned for his Jewish workforce after witnessing their persecution by the Nazis.'})\n",
        "lista_filmes.append({'nome': 'O Senhor dos Anéis - O Regresso do Rei','ano': '2003', 'sinopse': 'Gandalf and Aragorn lead the World of Men against Sauron s army to draw his gaze from Frodo and Sam as they approach Mount Doom with the One Ring.'})\n",
        "lista_filmes.append({'nome': 'Pulp Fiction','ano': '1994', 'sinopse': 'The lives of two mob hitmen, a boxer, a gangster and his wife, and a pair of diner bandits intertwine in four tales of violence and redemption.'})\n",
        "lista_filmes.append({'nome': 'O Senhor dos Anéis - A Irmandade do Anel','ano': '2001', 'sinopse': 'A meek Hobbit from the Shire and eight companions set out on a journey to destroy the powerful One Ring and save Middle-earth from the Dark Lord Sauron.'})\n",
        "lista_filmes.append({'nome': 'O Bom, o Mau e o Vilão','ano': '1993', 'sinopse': 'A bounty hunting scam joins two men in an uneasy alliance against a third in a race to find a fortune in gold buried in a remote cemetery.'})\n",
        "\n",
        "print(lista_filmes)"
      ],
      "metadata": {
        "colab": {
          "base_uri": "https://localhost:8080/"
        },
        "id": "q3kCLpqdpDkU",
        "outputId": "7d017d8e-e549-4c07-cc0c-accf0cf4ff3a"
      },
      "execution_count": 29,
      "outputs": [
        {
          "output_type": "stream",
          "name": "stdout",
          "text": [
            "[{'nome': 'Os Condenados de Shawshank', 'ano': '1994', 'sinopse': 'Two imprisoned men bond over a number of years, finding solace and eventual redemption through acts of common decency.'}, {'nome': 'O Padrinho', 'ano': 'ano do filme', 'sinopse': 'The aging patriarch of an organized crime dynasty in postwar New York City transfers control of his clandestine empire to his reluctant youngest son.'}, {'nome': 'O Cavaleiro das Trevas', 'ano': '2008', 'sinopse': 'When the menace known as the Joker wreaks havoc and chaos on the people of Gotham, Batman must accept one of the greatest psychological and physical tests of his ability to fight injustice.'}, {'nome': 'O Padrinho: Parte 2', 'ano': '1974', 'sinopse': 'The early life and career of Vito Corleone in 1920s New York City is portrayed, while his son, Michael, expands and tightens his grip on the family crime syndicate.'}, {'nome': 'Doze Homens em Furia', 'ano': '1957', 'sinopse': 'The jury in a New York City murder trial is frustrated by a single member whose skeptical caution forces them to more carefully consider the evidence before jumping to a hasty verdict.'}, {'nome': 'A Lista de Schindler', 'ano': '1993', 'sinopse': 'In German-occupied Poland during World War II, industrialist Oskar Schindler gradually becomes concerned for his Jewish workforce after witnessing their persecution by the Nazis.'}, {'nome': 'O Senhor dos Anéis - O Regresso do Rei', 'ano': '2003', 'sinopse': 'Gandalf and Aragorn lead the World of Men against Sauron s army to draw his gaze from Frodo and Sam as they approach Mount Doom with the One Ring.'}, {'nome': 'Pulp Fiction', 'ano': '1994', 'sinopse': 'The lives of two mob hitmen, a boxer, a gangster and his wife, and a pair of diner bandits intertwine in four tales of violence and redemption.'}, {'nome': 'O Senhor dos Anéis - A Irmandade do Anel', 'ano': '2001', 'sinopse': 'A meek Hobbit from the Shire and eight companions set out on a journey to destroy the powerful One Ring and save Middle-earth from the Dark Lord Sauron.'}, {'nome': 'O Bom, o Mau e o Vilão', 'ano': '1993', 'sinopse': 'A bounty hunting scam joins two men in an uneasy alliance against a third in a race to find a fortune in gold buried in a remote cemetery.'}]\n"
          ]
        }
      ]
    }
  ]
}